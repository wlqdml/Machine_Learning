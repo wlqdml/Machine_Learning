{
 "cells": [
  {
   "cell_type": "code",
   "execution_count": 1,
   "metadata": {
    "_cell_guid": "b1076dfc-b9ad-4769-8c92-a6c4dae69d19",
    "_uuid": "8f2839f25d086af736a60e9eeb907d3b93b6e0e5",
    "execution": {
     "iopub.execute_input": "2023-12-20T19:12:57.279050Z",
     "iopub.status.busy": "2023-12-20T19:12:57.278420Z",
     "iopub.status.idle": "2023-12-20T19:12:59.256681Z",
     "shell.execute_reply": "2023-12-20T19:12:59.255755Z",
     "shell.execute_reply.started": "2023-12-20T19:12:57.279017Z"
    }
   },
   "outputs": [],
   "source": [
    "import numpy as np\n",
    "import pandas as pd\n",
    "from tqdm.notebook import tqdm_notebook\n",
    "\n",
    "from argparse import Namespace\n",
    "\n",
    "import collections\n",
    "from collections import Counter\n",
    "\n",
    "import string\n",
    "\n",
    "import torch\n",
    "import torch.nn as nn\n",
    "import torch.nn.functional as F\n",
    "import torch.optim as optim\n",
    "from torch.utils.data import Dataset, DataLoader"
   ]
  },
  {
   "cell_type": "code",
   "execution_count": 38,
   "metadata": {
    "execution": {
     "iopub.execute_input": "2023-12-20T19:29:51.940090Z",
     "iopub.status.busy": "2023-12-20T19:29:51.939251Z",
     "iopub.status.idle": "2023-12-20T19:29:51.944127Z",
     "shell.execute_reply": "2023-12-20T19:29:51.943011Z",
     "shell.execute_reply.started": "2023-12-20T19:29:51.940042Z"
    }
   },
   "outputs": [],
   "source": [
    "##### 'TRAIN' a new model or 'LOAD' an existing model \n",
    "get_model = 'TRAIN'"
   ]
  },
  {
   "cell_type": "markdown",
   "metadata": {},
   "source": [
    "# @@@@@ 0. Settings"
   ]
  },
  {
   "cell_type": "code",
   "execution_count": 44,
   "metadata": {
    "execution": {
     "iopub.execute_input": "2023-12-20T19:30:53.207089Z",
     "iopub.status.busy": "2023-12-20T19:30:53.206164Z",
     "iopub.status.idle": "2023-12-20T19:30:53.212254Z",
     "shell.execute_reply": "2023-12-20T19:30:53.211217Z",
     "shell.execute_reply.started": "2023-12-20T19:30:53.207043Z"
    }
   },
   "outputs": [],
   "source": [
    "args = Namespace(\n",
    "    # Training or loading\n",
    "    get_model   = get_model,\n",
    "    # Data and Path information\n",
    "    input_path  = '/kaggle/input/yelp-reviews/',\n",
    "    output_path = '/kaggle/working/',\n",
    "    review_csv_name = '/kaggle/input/yelp-reviews/yelp_reviews.csv',\n",
    "    save_model_name = 'perceptron_model.pth',\n",
    "    # Training hyperparameters\n",
    "    cutoff          = 25,\n",
    "    learning_rate   = 0.001,\n",
    "    batch_size      = 128,\n",
    "    device          = 'cuda',\n",
    "    num_epochs      = 100,\n",
    "    early_stopping_criteria = 5\n",
    ")"
   ]
  },
  {
   "cell_type": "markdown",
   "metadata": {},
   "source": [
    "# @@@@@ 1. Data Preparation\n",
    "## The data preparation part is to perform a text-to-vectorized-minibatch pipeline: converting text inputs to vectorized minibatches. \n",
    "- ### Step 1: Creating a Vocabulary - mapping each token in the reviews data to a numerical version of itself.\n",
    "- ### Step 2: Vectorization - going from a text dataset to a vector. The Vectorizer turns different reviews to vectors of integers with the same length.\n",
    "- ### Step 3: Group the vectorized data points into batches. \n",
    "\n",
    "\n",
    "## 1.1 - Read Data\n",
    "#### **Train partition**: a dataset to derive the model parameters\n",
    "#### **Valid partition**: a dataset for selecting among hyperparameters and making modeling decisions\n",
    "#### **Test partition**: a dataset for final evaluation and reporting"
   ]
  },
  {
   "cell_type": "code",
   "execution_count": 3,
   "metadata": {
    "execution": {
     "iopub.execute_input": "2023-12-20T19:12:59.266196Z",
     "iopub.status.busy": "2023-12-20T19:12:59.265467Z",
     "iopub.status.idle": "2023-12-20T19:13:00.102699Z",
     "shell.execute_reply": "2023-12-20T19:13:00.101560Z",
     "shell.execute_reply.started": "2023-12-20T19:12:59.266171Z"
    }
   },
   "outputs": [
    {
     "data": {
      "text/html": [
       "<div>\n",
       "<style scoped>\n",
       "    .dataframe tbody tr th:only-of-type {\n",
       "        vertical-align: middle;\n",
       "    }\n",
       "\n",
       "    .dataframe tbody tr th {\n",
       "        vertical-align: top;\n",
       "    }\n",
       "\n",
       "    .dataframe thead th {\n",
       "        text-align: right;\n",
       "    }\n",
       "</style>\n",
       "<table border=\"1\" class=\"dataframe\">\n",
       "  <thead>\n",
       "    <tr style=\"text-align: right;\">\n",
       "      <th></th>\n",
       "      <th>rating</th>\n",
       "      <th>review</th>\n",
       "      <th>split</th>\n",
       "    </tr>\n",
       "  </thead>\n",
       "  <tbody>\n",
       "    <tr>\n",
       "      <th>55398</th>\n",
       "      <td>positive</td>\n",
       "      <td>i don t think i can ever buy pastries any wher...</td>\n",
       "      <td>test</td>\n",
       "    </tr>\n",
       "    <tr>\n",
       "      <th>36455</th>\n",
       "      <td>positive</td>\n",
       "      <td>i ve lived in the qc for years now and never k...</td>\n",
       "      <td>train</td>\n",
       "    </tr>\n",
       "    <tr>\n",
       "      <th>23285</th>\n",
       "      <td>negative</td>\n",
       "      <td>arrived and waited for minutes before i grabbe...</td>\n",
       "      <td>val</td>\n",
       "    </tr>\n",
       "    <tr>\n",
       "      <th>42560</th>\n",
       "      <td>positive</td>\n",
       "      <td>i have been here on occasions and left happy b...</td>\n",
       "      <td>train</td>\n",
       "    </tr>\n",
       "    <tr>\n",
       "      <th>2934</th>\n",
       "      <td>negative</td>\n",
       "      <td>updated since they did finally give our money ...</td>\n",
       "      <td>train</td>\n",
       "    </tr>\n",
       "  </tbody>\n",
       "</table>\n",
       "</div>"
      ],
      "text/plain": [
       "         rating                                             review  split\n",
       "55398  positive  i don t think i can ever buy pastries any wher...   test\n",
       "36455  positive  i ve lived in the qc for years now and never k...  train\n",
       "23285  negative  arrived and waited for minutes before i grabbe...    val\n",
       "42560  positive  i have been here on occasions and left happy b...  train\n",
       "2934   negative  updated since they did finally give our money ...  train"
      ]
     },
     "execution_count": 3,
     "metadata": {},
     "output_type": "execute_result"
    }
   ],
   "source": [
    "df_all = pd.read_csv(args.review_csv_name)\n",
    "df_all.sample(5)"
   ]
  },
  {
   "cell_type": "code",
   "execution_count": 4,
   "metadata": {
    "execution": {
     "iopub.execute_input": "2023-12-20T19:13:00.104327Z",
     "iopub.status.busy": "2023-12-20T19:13:00.104007Z",
     "iopub.status.idle": "2023-12-20T19:13:00.147726Z",
     "shell.execute_reply": "2023-12-20T19:13:00.146862Z",
     "shell.execute_reply.started": "2023-12-20T19:13:00.104302Z"
    }
   },
   "outputs": [
    {
     "data": {
      "text/html": [
       "<div>\n",
       "<style scoped>\n",
       "    .dataframe tbody tr th:only-of-type {\n",
       "        vertical-align: middle;\n",
       "    }\n",
       "\n",
       "    .dataframe tbody tr th {\n",
       "        vertical-align: top;\n",
       "    }\n",
       "\n",
       "    .dataframe thead th {\n",
       "        text-align: right;\n",
       "    }\n",
       "</style>\n",
       "<table border=\"1\" class=\"dataframe\">\n",
       "  <thead>\n",
       "    <tr style=\"text-align: right;\">\n",
       "      <th>split</th>\n",
       "      <th>test</th>\n",
       "      <th>train</th>\n",
       "      <th>val</th>\n",
       "    </tr>\n",
       "    <tr>\n",
       "      <th>rating</th>\n",
       "      <th></th>\n",
       "      <th></th>\n",
       "      <th></th>\n",
       "    </tr>\n",
       "  </thead>\n",
       "  <tbody>\n",
       "    <tr>\n",
       "      <th>negative</th>\n",
       "      <td>4200</td>\n",
       "      <td>19600</td>\n",
       "      <td>4200</td>\n",
       "    </tr>\n",
       "    <tr>\n",
       "      <th>positive</th>\n",
       "      <td>4200</td>\n",
       "      <td>19600</td>\n",
       "      <td>4200</td>\n",
       "    </tr>\n",
       "  </tbody>\n",
       "</table>\n",
       "</div>"
      ],
      "text/plain": [
       "split     test  train   val\n",
       "rating                     \n",
       "negative  4200  19600  4200\n",
       "positive  4200  19600  4200"
      ]
     },
     "execution_count": 4,
     "metadata": {},
     "output_type": "execute_result"
    }
   ],
   "source": [
    "pd.crosstab(df_all['rating'], df_all['split'])"
   ]
  },
  {
   "cell_type": "markdown",
   "metadata": {},
   "source": [
    "## 1.2 - The Vocabulary class\n",
    "### [A walkthrough of codes](https://github.com/houzhj/Machine_Learning/blob/main/ipynb/Yelp_Reviews/class_Vocabulary.ipynb)\n",
    "### - Creating a mapping between the tokens and integers, in terms of dictionaries. To make this mapping reversible, create two dictionaries, one is from-token-to-index, one is from-index-to-token. Then encapsulate this mapping (bijection) into a Vocabulary class.\n",
    "### - By using the UNK token, we can handle tokens at test time that were never seen in training.\n",
    "### - Restricting infrequent tokens from the Vocabularies with a pre-specified parameter cut_off. This is essential in limiting the memory used by the Vocabulary class. \n",
    "### - Expected behaviors:\n",
    "#### (1) add_token(): to add new tokens to the Vocabulary\n",
    "#### (2) lookup_token(): to retrieve the index for a token\n",
    "#### (3) lookup_index(): to retrieve the token corresponding to a specific index.\n",
    "### - The Vocabulary objects will be used in the Vectorization step (discussed next). \n"
   ]
  },
  {
   "cell_type": "code",
   "execution_count": 5,
   "metadata": {
    "execution": {
     "iopub.execute_input": "2023-12-20T19:13:00.150316Z",
     "iopub.status.busy": "2023-12-20T19:13:00.150021Z",
     "iopub.status.idle": "2023-12-20T19:13:00.164128Z",
     "shell.execute_reply": "2023-12-20T19:13:00.162896Z",
     "shell.execute_reply.started": "2023-12-20T19:13:00.150293Z"
    }
   },
   "outputs": [],
   "source": [
    "class Vocabulary(object):\n",
    "    \"\"\"Class to process text and extract vocabulary for mapping\"\"\"\n",
    "    def __init__(self, token_to_idx=None, add_unk=True, unk_token=\"<UNK>\"):\n",
    "        \"\"\"\n",
    "        Args:\n",
    "            token_to_idx (dict): a pre-existing map of tokens to indices\n",
    "            add_unk (bool): a flag that indicates whether to add the UNK token\n",
    "            unk_token (str): the UNK token to add into the Vocabulary\n",
    "        \"\"\"\n",
    "        if token_to_idx is None:\n",
    "            token_to_idx = {}\n",
    "        self._token_to_idx = token_to_idx\n",
    "        self._idx_to_token = {idx: token \n",
    "                              for token, idx in self._token_to_idx.items()}\n",
    "        \n",
    "        self._add_unk   = add_unk\n",
    "        self._unk_token = unk_token      \n",
    "        self.unk_index  = -999\n",
    "        ### the unk_token, i.e, \"<UNK>\" is the first added token if add_unk=True\n",
    "        ### self.unk_index is changed from -999 to 0\n",
    "        if add_unk:\n",
    "            self.unk_index = self.add_token(unk_token) \n",
    "\n",
    "    def add_token(self, token):\n",
    "        \"\"\"Update mapping dicts based on the token.\n",
    "\n",
    "        Args:\n",
    "            token (str): the item to add into the Vocabulary\n",
    "        Returns:\n",
    "            index (int): the integer corresponding to the token\n",
    "        \"\"\"\n",
    "        if token in self._token_to_idx:\n",
    "            index = self._token_to_idx[token]\n",
    "        else:\n",
    "            index = len(self._token_to_idx)\n",
    "            self._token_to_idx[token] = index\n",
    "            self._idx_to_token[index] = token\n",
    "        return index\n",
    "   \n",
    "    def lookup_token(self, token):\n",
    "        \"\"\"Retrieve the index associated with the token \n",
    "          or the UNK index if token isn't present.\n",
    "        \n",
    "        Args:\n",
    "            token (str): the token to look up \n",
    "        Returns:\n",
    "            index (int): the index corresponding to the token\n",
    "        Notes:\n",
    "            `unk_index` needs to be >=0 (having been added into the Vocabulary) \n",
    "              for the UNK functionality \n",
    "        \"\"\"\n",
    "        if self.unk_index >= 0:\n",
    "            ### .get(): return self.unk_index if the key \"token\" does not exist. \n",
    "            return self._token_to_idx.get(token, self.unk_index)\n",
    "        else:\n",
    "            return self._token_to_idx[token]\n",
    "    \n",
    "    def lookup_index(self, index):\n",
    "        \"\"\"Return the token associated with the index\n",
    "        \n",
    "        Args: \n",
    "            index (int): the index to look up\n",
    "        Returns:\n",
    "            token (str): the token corresponding to the index\n",
    "        Raises:\n",
    "            KeyError: if the index is not in the Vocabulary\n",
    "        \"\"\"\n",
    "        if index not in self._idx_to_token:\n",
    "            raise KeyError(\"the index (%d) is not in the Vocabulary\" % index)\n",
    "        return self._idx_to_token[index]\n",
    "    \n",
    "    def __len__(self):\n",
    "        return len(self._token_to_idx)"
   ]
  },
  {
   "cell_type": "markdown",
   "metadata": {},
   "source": [
    "## 1.3 - Vectorization\n",
    "### [A walkthrough of codes](https://github.com/houzhj/Machine_Learning/blob/main/ipynb/Yelp_Reviews/class_Vectorizer.ipynb)\n",
    "### - The class method **from_dataframe()** is used to instantiate a ReviewVectorizer object from a dataframe and a pre-specified cutoff for the frequency of words (tokens).\n",
    "### - The vocabulary only includes tokens that are as frequent as a provided keyword argument to the method, cutoff, i.e., finding all words that occur at least cutoff times and adding them to the Vocabulary.\n",
    "### - The ReviewVectorizer encapsulates the review vocabulary (rating_vocab) and the rating vocabulary (review_vocab)\n",
    "### - The review_vocab will be used as the reference for one-hot representation. \n",
    "### - The method **vectorize()** is the core functionality of the Vectorizer. It takes as an argument a string representing a review and returns a vectorized representation (a vector) of the review. The length of the vector is equal to the number of elements in the review vocabulary, review_vocab. The vectorized representation of reviews with different lengths should have the same length. \n",
    "### - Limitations of the one-hot method: (1) sparseness, n_unique_words in a review << n_unique_words in a vocabulary; (2) discarding the order of the words' appearance.\n",
    "        "
   ]
  },
  {
   "cell_type": "code",
   "execution_count": 6,
   "metadata": {
    "execution": {
     "iopub.execute_input": "2023-12-20T19:13:00.166391Z",
     "iopub.status.busy": "2023-12-20T19:13:00.165921Z",
     "iopub.status.idle": "2023-12-20T19:13:00.179901Z",
     "shell.execute_reply": "2023-12-20T19:13:00.179012Z",
     "shell.execute_reply.started": "2023-12-20T19:13:00.166354Z"
    }
   },
   "outputs": [],
   "source": [
    "class ReviewVectorizer(object):\n",
    "    \"\"\" The Vectorizer which coordinates the Vocabularies and puts them to use\"\"\"\n",
    "    def __init__(self, review_vocab, rating_vocab):\n",
    "        \"\"\"\n",
    "        Args:\n",
    "            review_vocab (Vocabulary): maps words to integers\n",
    "            rating_vocab (Vocabulary): maps class labels to integers\n",
    "        \"\"\"\n",
    "        self.review_vocab = review_vocab\n",
    "        self.rating_vocab = rating_vocab\n",
    "         \n",
    "    @classmethod\n",
    "    def from_dataframe(cls, review_df, cutoff):\n",
    "        \"\"\"Instantiate the vectorizer from the dataset dataframe\n",
    "        \n",
    "        Args:\n",
    "            review_df (pandas.DataFrame): the review dataset\n",
    "            cutoff (int): the parameter for frequency-based filtering\n",
    "        Returns:\n",
    "            an instance of the ReviewVectorizer\n",
    "        \"\"\"\n",
    "        review_vocab = Vocabulary(add_unk=True)\n",
    "        rating_vocab = Vocabulary(add_unk=False)\n",
    "        \n",
    "        ########## Add tokens to rating_vocab ('positive' and 'negative')\n",
    "        for rating in sorted(set(review_df.rating)):\n",
    "            rating_vocab.add_token(rating)\n",
    "            \n",
    "        ########## Add tokens to review_vocab\n",
    "        ### Create a Counter() to count all tokens appears in review_df.review\n",
    "        word_counts = Counter()\n",
    "        for review in review_df.review:\n",
    "            for word in review.split(\" \"):\n",
    "                if word not in string.punctuation:\n",
    "                    word_counts[word] += 1\n",
    "        ### execute add_token if a word appears more than \"cutoff\" times\n",
    "        for word, count in word_counts.items():\n",
    "            if count > cutoff:\n",
    "                review_vocab.add_token(word)\n",
    "        return cls(review_vocab, rating_vocab)\n",
    "\n",
    "    ### This is the key functionality of the Vectorizer.\n",
    "    ### It takes as an argument a string representing a review,\n",
    "    ### and returns a vectorized representation of the review.\n",
    "    def vectorize(self, review):\n",
    "        \"\"\"\n",
    "        Create a collapsed one-hot representation vector for the review\n",
    "        Limitations of the one-hot method:\n",
    "        1 - Sparseness, n_unique_words in a review << n_unique_words in a vocabulary\n",
    "        2 - Discarding the order of the words' appearance\n",
    "        \n",
    "        Args:\n",
    "            review (str): the review \n",
    "        Returns:\n",
    "            one_hot (np.ndarray): the collapsed one-hot encoding \n",
    "        \"\"\"\n",
    "        ### Create an array where each element corresponds to each word in the vocabulary\n",
    "        one_hot = np.zeros(len(self.review_vocab), dtype=np.float32)\n",
    "        ### Run lookup_token() for each word in the review sequentially, return an index\n",
    "        ### Assign the corresponding element in the array to 1.\n",
    "        for token in review.split(\" \"):\n",
    "            if token not in string.punctuation:\n",
    "                one_hot[self.review_vocab.lookup_token(token)] = 1\n",
    "        return one_hot"
   ]
  },
  {
   "cell_type": "markdown",
   "metadata": {},
   "source": [
    "## 1.4 - Batches\n",
    "### [A walkthrough of codes](https://github.com/houzhj/Machine_Learning/blob/main/ipynb/Yelp_Reviews/batch_generator.ipynb)\n",
    "\n",
    "### - Group the vectorized data points into batches. \n",
    "### - The grouping is conducted throught the built in class **[DataLoader](https://pytorch.org/docs/stable/data.html)** in PyTorch. \n",
    "### - The class ReviewDataset inherits from the [**Dataset**](https://pytorch.org/vision/0.16/datasets.html) class. Instances of the derived class **ReviewDataset** can then be used with data loading tools like **DataLoader()** for efficient batch loading during model training.\n",
    "### - The methods \\_\\_len\\_\\_(), and \\_\\_getitem\\_\\_() are defined in class **ReviewDataset** - these magic functions are expected by the **DataLoader()**. An object equipped with \\_\\_len\\_\\_() can be passed to the len() Python build-in function. For objects equipped with \\_\\_getitem\\_\\_() we can use the standard subscript for indexing tuples and lists to access individual items. \n",
    "### - The **DataLoader()** function utilizes the return results of the \\_\\_getitem\\_\\_() method in the dataset to construct batches of data. In each iteration, **DataLoader()** calls the \\_\\_getitem\\_\\_() method of the dataset to retrieve a sample, and then combines these samples into a batch. \n",
    "### - In **DataLoader()**, the \\_\\_getitem\\_\\_() method uses an index generated by the **Sampler** object. The **Sampler** is responsible for determining the indices of samples in each batch. This index may be generated sequentially or randomly, depending on the setting of the shuffle parameter.\n",
    "### - Define a batch generator function that wraps the DataLoader and switch the data between the CPU and the GPU."
   ]
  },
  {
   "cell_type": "code",
   "execution_count": 7,
   "metadata": {
    "execution": {
     "iopub.execute_input": "2023-12-20T19:13:00.181588Z",
     "iopub.status.busy": "2023-12-20T19:13:00.181327Z",
     "iopub.status.idle": "2023-12-20T19:13:00.196611Z",
     "shell.execute_reply": "2023-12-20T19:13:00.195829Z",
     "shell.execute_reply.started": "2023-12-20T19:13:00.181565Z"
    }
   },
   "outputs": [],
   "source": [
    "class ReviewDataset(Dataset):\n",
    "    def __init__(self,review_df,vectorizer):\n",
    "        self.review_df   = review_df\n",
    "        self._vectorizer = vectorizer\n",
    "        \n",
    "        self.train_df    = self.review_df[self.review_df.split=='train']\n",
    "        self.train_size  = len(self.train_df)\n",
    "\n",
    "        self.val_df      = self.review_df[self.review_df.split=='val']\n",
    "        self.validation_size = len(self.val_df)\n",
    "\n",
    "        self.test_df     = self.review_df[self.review_df.split=='test']\n",
    "        self.test_size   = len(self.test_df)\n",
    "        \n",
    "        self._lookup_dict = {'train': (self.train_df, self.train_size),\n",
    "                             'val': (self.val_df, self.validation_size),\n",
    "                             'test': (self.test_df, self.test_size)}\n",
    "        self.set_split('train')\n",
    "        \n",
    "    @classmethod\n",
    "    def load_csv_and_make_vectorizer(cls,review_csv,cut_off):\n",
    "        \"\"\"Load dataset and make a new vectorizer from scratch\n",
    "        Args:\n",
    "            review_csv (str): location of the dataset\n",
    "        Returns:\n",
    "            an instance of ReviewDataset\n",
    "        \"\"\"\n",
    "        review_df = pd.read_csv(review_csv)\n",
    "        ### make vectorizer using training dataset\n",
    "        train_review_df = review_df[review_df.split=='train']\n",
    "        new_vectorizer  = ReviewVectorizer.from_dataframe(train_review_df,cut_off)\n",
    "        return cls(review_df,new_vectorizer)\n",
    "    \n",
    "    @classmethod\n",
    "    def load_df_and_make_vectorizer(cls,review_df,cut_off):\n",
    "        \"\"\"Load dataset and make a new vectorizer from scratch\n",
    "        Args:\n",
    "            review_df: dataset\n",
    "        Returns:\n",
    "            an instance of ReviewDataset\n",
    "        \"\"\"\n",
    "        ### make vectorizer using training dataset\n",
    "        train_review_df = review_df[review_df.split=='train']\n",
    "        new_vectorizer  = ReviewVectorizer.from_dataframe(train_review_df,cut_off)\n",
    "        return cls(review_df,new_vectorizer)\n",
    "    \n",
    "    def set_split(self, split=\"train\"):\n",
    "        \"\"\" selects the splits in the dataset using a column in the dataframe \n",
    "        Args:\n",
    "            split (str): one of \"train\", \"val\", or \"test\"\n",
    "        \"\"\"\n",
    "        self._target_split = split\n",
    "        ### when split = 'train', _target_df means the training set\n",
    "        self._target_df, self._target_size = self._lookup_dict[split]\n",
    "        \n",
    "    def __len__(self):\n",
    "        ### _target_size is defined in set_split() \n",
    "        return self._target_size        \n",
    "\n",
    "    def __getitem__(self, index):\n",
    "        \"\"\"the primary entry point method for PyTorch datasets\n",
    "        Args:\n",
    "            index (int): the index to the data point \n",
    "        Returns:\n",
    "            a dictionary holding the data point's features (x_data) and label (y_target)\n",
    "        \"\"\"\n",
    "        row = self._target_df.iloc[index]\n",
    "        review_vector = \\\n",
    "            self._vectorizer.vectorize(row.review)\n",
    "        rating_index = \\\n",
    "            self._vectorizer.rating_vocab.lookup_token(row.rating)\n",
    "        return {'x_data': review_vector,\n",
    "                'y_target': rating_index}\n",
    "\n",
    "    def get_vectorizer(self):\n",
    "        \"\"\" returns the vectorizer \"\"\"\n",
    "        return self._vectorizer\n",
    "    \n",
    "    def get_num_batches(self, batch_size):\n",
    "        \"\"\"Given a batch size, return the number of batches in the dataset\n",
    "        Args:\n",
    "            batch_size (int)\n",
    "        Returns:\n",
    "            number of batches in the dataset\n",
    "        \"\"\"\n",
    "        return len(self) // batch_size  "
   ]
  },
  {
   "cell_type": "markdown",
   "metadata": {},
   "source": [
    "### Generator Function"
   ]
  },
  {
   "cell_type": "code",
   "execution_count": 8,
   "metadata": {
    "execution": {
     "iopub.execute_input": "2023-12-20T19:13:00.198095Z",
     "iopub.status.busy": "2023-12-20T19:13:00.197745Z",
     "iopub.status.idle": "2023-12-20T19:13:00.209873Z",
     "shell.execute_reply": "2023-12-20T19:13:00.209111Z",
     "shell.execute_reply.started": "2023-12-20T19:13:00.198041Z"
    }
   },
   "outputs": [],
   "source": [
    "def generate_batches(dataset, batch_size, shuffle=True,\n",
    "                     drop_last=True, device=args.device):\n",
    "    \"\"\"\n",
    "    A generator function which wraps the PyTorch DataLoader. It will \n",
    "      ensure each tensor is on the write device location.\n",
    "    \"\"\"\n",
    "    dataloader = DataLoader(dataset=dataset, batch_size=batch_size,\n",
    "                            shuffle=shuffle, drop_last=drop_last)\n",
    "\n",
    "    for data_dict in dataloader:\n",
    "        out_data_dict = {}\n",
    "        for name, tensor in data_dict.items():\n",
    "            out_data_dict[name] = data_dict[name].to(device)\n",
    "        yield out_data_dict"
   ]
  },
  {
   "cell_type": "markdown",
   "metadata": {},
   "source": [
    "# @@@@@ 2. Model / Optimizer / Loss\n",
    "## 2.1 - The model (Perceptron) and activate Function (Sigmoid)\n",
    "### - The **ReviewClassifier** inherits from PyTorch’s **Module** and creates a single linear layer with a single output. The application of this classifier in a toy data is discussed [in this study](https://github.com/houzhj/Machine_Learning/blob/main/ipynb/Perceptron_ToyData/perceptron_mlp_main.ipynb). \n",
    "### - In PyTorch, the **nn.Module** class implements the **\\_\\_call\\_\\_** method, enabling model instances to be invoked like functions. Calling an instance from nn.Module with a set of arguments ends up calling a method named forward with the same argument. The forward function executes the forward computation, while **\\_\\_call\\_\\_** does other important chores before and after calling forward. In general, the correct way to call the module as a function is to use **Classifier(input)**, rather than **Classifier.forward(input)**, although they will produce the same outputs (silient errors, since there are steps not called properly if just using **forward(...)** directly).\n",
    "### - The **forward()** method allows for the sigmoid function (working as the nonlinear activation function) to be optionally applied. Here the default is do not apply the sigmoid function. "
   ]
  },
  {
   "cell_type": "code",
   "execution_count": 9,
   "metadata": {
    "execution": {
     "iopub.execute_input": "2023-12-20T19:13:00.211364Z",
     "iopub.status.busy": "2023-12-20T19:13:00.211051Z",
     "iopub.status.idle": "2023-12-20T19:13:00.224310Z",
     "shell.execute_reply": "2023-12-20T19:13:00.223269Z",
     "shell.execute_reply.started": "2023-12-20T19:13:00.211340Z"
    }
   },
   "outputs": [],
   "source": [
    "class ReviewClassifier(nn.Module):\n",
    "    \"\"\" a simple perceptron based classifier \"\"\"\n",
    "    def __init__(self, num_features):\n",
    "        \"\"\"\n",
    "        Args:\n",
    "            num_features (int): the size of the input feature vector\n",
    "        \"\"\"\n",
    "        super(ReviewClassifier, self).__init__()\n",
    "        self.fc1 = nn.Linear(in_features=num_features, \n",
    "                             out_features=1)\n",
    "\n",
    "    def forward(self, x_in, apply_sigmoid=False):\n",
    "        \"\"\"The forward pass of the classifier\n",
    "        \n",
    "        Args:\n",
    "            x_in (torch.Tensor): an input data tensor. \n",
    "                x_in.shape should be (batch, num_features)\n",
    "            apply_sigmoid (bool): a flag for the sigmoid activation\n",
    "                should be false if used with the Cross Entropy losses\n",
    "        Returns:\n",
    "            the resulting tensor. tensor.shape should be (batch,)\n",
    "        \"\"\"\n",
    "        y_out = self.fc1(x_in).squeeze()\n",
    "        if apply_sigmoid:\n",
    "            y_out = torch.sigmoid(y_out)\n",
    "        return y_out"
   ]
  },
  {
   "cell_type": "markdown",
   "metadata": {},
   "source": [
    "### Define the model \n",
    "### - Data: df_all\n",
    "### - Training hyperparameters (cutoff, batch_size, device): defined in args"
   ]
  },
  {
   "cell_type": "code",
   "execution_count": 10,
   "metadata": {
    "execution": {
     "iopub.execute_input": "2023-12-20T19:13:00.226313Z",
     "iopub.status.busy": "2023-12-20T19:13:00.225537Z",
     "iopub.status.idle": "2023-12-20T19:13:06.223993Z",
     "shell.execute_reply": "2023-12-20T19:13:06.223028Z",
     "shell.execute_reply.started": "2023-12-20T19:13:00.226282Z"
    }
   },
   "outputs": [],
   "source": [
    "dataset      = ReviewDataset.load_df_and_make_vectorizer(df_all,args.cutoff)\n",
    "dataloader   = DataLoader(dataset=dataset, \n",
    "                          batch_size=args.batch_size,\n",
    "                          shuffle=True,\n",
    "                          drop_last=True)\n",
    "vectorizer   = dataset.get_vectorizer()\n",
    "num_features = len(vectorizer.review_vocab)\n",
    "##### In classifier, apply_sigmoid = False (default), BCEWithLogitsLoss() will be applied as the loss function.\n",
    "classifier   = ReviewClassifier(num_features = num_features) \n",
    "classifier   = classifier.to(args.device)"
   ]
  },
  {
   "cell_type": "markdown",
   "metadata": {},
   "source": [
    "## 2.2 - The loss function (Binary Cross-Entropy)\n",
    "### - The loss - \"how far off\" the model predictions are from the target.\n",
    "### - The gradient of the loss function - a signal for “how much” the parameters should change (according to \"how much\" each parameter contributed to the loss function).\n",
    "### - As mentioned, the loss function should be appropriate for the activation function."
   ]
  },
  {
   "cell_type": "code",
   "execution_count": 11,
   "metadata": {
    "execution": {
     "iopub.execute_input": "2023-12-20T19:13:06.225510Z",
     "iopub.status.busy": "2023-12-20T19:13:06.225222Z",
     "iopub.status.idle": "2023-12-20T19:13:06.230019Z",
     "shell.execute_reply": "2023-12-20T19:13:06.229116Z",
     "shell.execute_reply.started": "2023-12-20T19:13:06.225486Z"
    }
   },
   "outputs": [],
   "source": [
    "loss_func = nn.BCEWithLogitsLoss()"
   ]
  },
  {
   "cell_type": "markdown",
   "metadata": {},
   "source": [
    "## 2.3 - The optimizer and scheduler\n",
    "### The initialized state of the classifier\n",
    "### Using [torch.nn.Module.parameters](https://pytorch.org/docs/stable/generated/torch.nn.Module.html#torch.nn.Module.parameters)\n",
    "#### These are the tensors that the optimizer will get. After calling **model.backward()** the parameters are populated with their grad, and the optimizer then updates their values accordingly during the **optimizer.step()** call.\n",
    "#### The requires_grad = True argument is telling PyTorch to track the entire family tree of tensors resulting from operations on *parameters*."
   ]
  },
  {
   "cell_type": "code",
   "execution_count": 12,
   "metadata": {
    "execution": {
     "iopub.execute_input": "2023-12-20T19:13:06.231527Z",
     "iopub.status.busy": "2023-12-20T19:13:06.231138Z",
     "iopub.status.idle": "2023-12-20T19:13:06.328433Z",
     "shell.execute_reply": "2023-12-20T19:13:06.327501Z",
     "shell.execute_reply.started": "2023-12-20T19:13:06.231492Z"
    }
   },
   "outputs": [
    {
     "data": {
      "text/plain": [
       "[Parameter containing:\n",
       " tensor([[-0.0094,  0.0111, -0.0019,  ..., -0.0067, -0.0055, -0.0064]],\n",
       "        device='cuda:0', requires_grad=True),\n",
       " Parameter containing:\n",
       " tensor([0.0100], device='cuda:0', requires_grad=True)]"
      ]
     },
     "execution_count": 12,
     "metadata": {},
     "output_type": "execute_result"
    }
   ],
   "source": [
    "list(classifier.parameters())"
   ]
  },
  {
   "cell_type": "markdown",
   "metadata": {},
   "source": [
    "### Using [torch.nn.Module.state_dict](https://pytorch.org/docs/stable/generated/torch.nn.Module.html#torch.nn.Module.state_dict)"
   ]
  },
  {
   "cell_type": "code",
   "execution_count": 13,
   "metadata": {
    "execution": {
     "iopub.execute_input": "2023-12-20T19:13:06.329672Z",
     "iopub.status.busy": "2023-12-20T19:13:06.329411Z",
     "iopub.status.idle": "2023-12-20T19:13:06.337929Z",
     "shell.execute_reply": "2023-12-20T19:13:06.337054Z",
     "shell.execute_reply.started": "2023-12-20T19:13:06.329650Z"
    }
   },
   "outputs": [
    {
     "data": {
      "text/plain": [
       "OrderedDict([('fc1.weight',\n",
       "              tensor([[-0.0094,  0.0111, -0.0019,  ..., -0.0067, -0.0055, -0.0064]],\n",
       "                     device='cuda:0')),\n",
       "             ('fc1.bias', tensor([0.0100], device='cuda:0'))])"
      ]
     },
     "execution_count": 13,
     "metadata": {},
     "output_type": "execute_result"
    }
   ],
   "source": [
    "classifier.state_dict()"
   ]
  },
  {
   "cell_type": "markdown",
   "metadata": {},
   "source": [
    "### Define the [Adam](https://pytorch.org/docs/stable/generated/torch.optim.Adam.html) optimizer \n",
    "#### - the learning rate is set adaptively\n",
    "#### - it is not sensitive to the scaling of the parameters"
   ]
  },
  {
   "cell_type": "code",
   "execution_count": 14,
   "metadata": {
    "execution": {
     "iopub.execute_input": "2023-12-20T19:13:06.341986Z",
     "iopub.status.busy": "2023-12-20T19:13:06.341634Z",
     "iopub.status.idle": "2023-12-20T19:13:06.346934Z",
     "shell.execute_reply": "2023-12-20T19:13:06.345891Z",
     "shell.execute_reply.started": "2023-12-20T19:13:06.341959Z"
    }
   },
   "outputs": [],
   "source": [
    "optimizer = optim.Adam(classifier.parameters(), lr=args.learning_rate)"
   ]
  },
  {
   "attachments": {
    "f8e9d05e-952a-4ac9-999f-6a3fea4bc6a8.png": {
     "image/png": "[encoded data removed]"
    }
   },
   "cell_type": "markdown",
   "metadata": {},
   "source": [
    "### Apply a scheduler for adjusting learning rate\n",
    "### - [torch.optim.lr_scheduler](https://pytorch.org/docs/stable/optim.html) provides several methods to adjust the learning rate based on the number of epochs.\n",
    "### - [torch.optim.lr_scheduler.ReduceLROnPlateau](https://pytorch.org/docs/stable/generated/torch.optim.lr_scheduler.ReduceLROnPlateau.html#torch.optim.lr_scheduler.ReduceLROnPlateau) allows dynamic learning rate reducing based on some validation measurements.\n",
    "### - This scheduler reads a metrics quantity and if no improvement is seen for a ‘patience’ number of epochs, the learning rate is reduced.\n",
    "### - Parameters:\n",
    "1. **mode(str)**: In \"min\" mode, lr will be reduced when the quantity monitored has stopped decreasing; in \"max\" mode it will be reduced when the quantity monitored has stopped increasing. Default: 0.1.\n",
    "2. **factor(float)**: Factor by which the learning rate will be reduced. new_lr = lr * factor. Default: 0.1.\n",
    "3. **patience (int)**: Number of epochs with no improvement after which learning rate will be reduced. For example, if patience = 2, then we will ignore the first 2 epochs with no improvement, and will only decrease the LR after the 3rd epoch if the loss still hasn’t improved then. Default: 10.\n",
    "4. **threshold (float)** – Threshold for measuring the new optimum, to only focus on significant changes. Default: 1e-4.\n",
    "\n",
    "### - A **scheduler.step(val_loss)** method is called at the end of each epoch to execute the update of the learning rate. The parameters “val_loss” represents the loss (or other monitoring metric) computed for the model on the validation set. This loss value is typically used by the scheduler to assess the model's performance on the validation set and update the learning rate accordingly.\n",
    "\n",
    "\n",
    "![image.png](attachment:f8e9d05e-952a-4ac9-999f-6a3fea4bc6a8.png)"
   ]
  },
  {
   "cell_type": "code",
   "execution_count": 15,
   "metadata": {
    "execution": {
     "iopub.execute_input": "2023-12-20T19:13:06.348462Z",
     "iopub.status.busy": "2023-12-20T19:13:06.348206Z",
     "iopub.status.idle": "2023-12-20T19:13:06.356429Z",
     "shell.execute_reply": "2023-12-20T19:13:06.355611Z",
     "shell.execute_reply.started": "2023-12-20T19:13:06.348439Z"
    }
   },
   "outputs": [],
   "source": [
    "scheduler = optim.lr_scheduler.ReduceLROnPlateau(optimizer=optimizer,\n",
    "                                                 mode='min',\n",
    "                                                 factor=0.5,\n",
    "                                                 patience=1)"
   ]
  },
  {
   "cell_type": "markdown",
   "metadata": {},
   "source": [
    "# @@@@@ 3. Training Routine\n",
    "## 3.1 - Helper function: tracking the training state"
   ]
  },
  {
   "cell_type": "code",
   "execution_count": 16,
   "metadata": {
    "execution": {
     "iopub.execute_input": "2023-12-20T19:13:06.357865Z",
     "iopub.status.busy": "2023-12-20T19:13:06.357569Z",
     "iopub.status.idle": "2023-12-20T19:13:06.367979Z",
     "shell.execute_reply": "2023-12-20T19:13:06.367138Z",
     "shell.execute_reply.started": "2023-12-20T19:13:06.357842Z"
    }
   },
   "outputs": [],
   "source": [
    "def init_train_state(args):\n",
    "    train_state_dict = {'stop_early': False,\n",
    "                        'early_stopping_step': 0,\n",
    "                        'early_stopping_best_val': 1e8,\n",
    "                        'learning_rate': args.learning_rate,\n",
    "                        'epoch_index': 0,\n",
    "                        'train_loss': [],\n",
    "                        'train_acc': [],\n",
    "                        'val_loss': [],\n",
    "                        'val_acc': [],\n",
    "                        'test_loss': -1,\n",
    "                        'test_acc': -1,\n",
    "                        'model_filename': args.save_model_name\n",
    "                       }\n",
    "    return train_state_dict\n",
    "\n",
    "def update_train_state(args, model, train_state):\n",
    "    \"\"\"\n",
    "    Handle the training state updates.\n",
    "     - Early Stopping: Prevent overfitting.\n",
    "     - Model Checkpoint: Model is saved if the model is better\n",
    "    \n",
    "    Args:\n",
    "        args:  arguments\n",
    "        model: model to train\n",
    "        train_state: a dictionary representing the training state values\n",
    "    \n",
    "    Returns:\n",
    "        a new train_state\n",
    "    \"\"\"\n",
    "\n",
    "    # Save the first model\n",
    "    if train_state['epoch_index'] == 0:\n",
    "        torch.save(model.state_dict(), train_state['model_filename'])\n",
    "        train_state['stop_early'] = False\n",
    "\n",
    "    # Save model if performance improved\n",
    "    elif train_state['epoch_index'] >= 1:\n",
    "        loss_tm1, loss_t = train_state['val_loss'][-2:]\n",
    "\n",
    "        # If loss increased (not a better model)\n",
    "        if loss_t >= train_state['early_stopping_best_val']:\n",
    "            # Update early_stopping_step\n",
    "            train_state['early_stopping_step'] += 1\n",
    "        # If loss decreased\n",
    "        else:\n",
    "            # Save the best model and update the early_stopping_best_val\n",
    "            if loss_t < train_state['early_stopping_best_val']:\n",
    "                torch.save(model.state_dict(), train_state['model_filename'])\n",
    "                train_state['early_stopping_best_val'] = loss_t\n",
    "\n",
    "            # Reset early stopping step\n",
    "            train_state['early_stopping_step'] = 0\n",
    "\n",
    "        # Stop early ?\n",
    "        # In the main training loop, if train_state['stop_early']: break\n",
    "        train_state['stop_early'] = \\\n",
    "            train_state['early_stopping_step'] >= args.early_stopping_criteria\n",
    "\n",
    "    return train_state"
   ]
  },
  {
   "cell_type": "code",
   "execution_count": 51,
   "metadata": {
    "execution": {
     "iopub.execute_input": "2023-12-20T19:42:59.389509Z",
     "iopub.status.busy": "2023-12-20T19:42:59.388746Z",
     "iopub.status.idle": "2023-12-20T19:42:59.395978Z",
     "shell.execute_reply": "2023-12-20T19:42:59.394858Z",
     "shell.execute_reply.started": "2023-12-20T19:42:59.389475Z"
    }
   },
   "outputs": [
    {
     "data": {
      "text/plain": [
       "{'stop_early': False,\n",
       " 'early_stopping_step': 0,\n",
       " 'early_stopping_best_val': 100000000.0,\n",
       " 'learning_rate': 0.001,\n",
       " 'epoch_index': 0,\n",
       " 'train_loss': [],\n",
       " 'train_acc': [],\n",
       " 'val_loss': [],\n",
       " 'val_acc': [],\n",
       " 'test_loss': -1,\n",
       " 'test_acc': -1,\n",
       " 'model_filename': 'perceptron_model.pth'}"
      ]
     },
     "execution_count": 51,
     "metadata": {},
     "output_type": "execute_result"
    }
   ],
   "source": [
    "train_state = init_train_state(args)\n",
    "train_state"
   ]
  },
  {
   "cell_type": "markdown",
   "metadata": {},
   "source": [
    "## 3.2 - Helper function: compute accurary rate"
   ]
  },
  {
   "cell_type": "code",
   "execution_count": 18,
   "metadata": {
    "execution": {
     "iopub.execute_input": "2023-12-20T19:13:06.386351Z",
     "iopub.status.busy": "2023-12-20T19:13:06.385972Z",
     "iopub.status.idle": "2023-12-20T19:13:06.393584Z",
     "shell.execute_reply": "2023-12-20T19:13:06.392706Z",
     "shell.execute_reply.started": "2023-12-20T19:13:06.386320Z"
    }
   },
   "outputs": [],
   "source": [
    "def compute_accuracy(y_pred, y_target, device, apply_sigmoid=True):\n",
    "    y_target = y_target.to(device)\n",
    "    if apply_sigmoid:\n",
    "        y_pred_indices = (torch.sigmoid(y_pred)>0.5).to(device).long()\n",
    "    else: \n",
    "        y_pred_indices = (y_pred>0.5).to(device).long()\n",
    "    n_correct = torch.eq(y_pred_indices, y_target).sum().item()\n",
    "    return n_correct / len(y_pred_indices) * 100"
   ]
  },
  {
   "cell_type": "code",
   "execution_count": 19,
   "metadata": {
    "execution": {
     "iopub.execute_input": "2023-12-20T19:13:06.395016Z",
     "iopub.status.busy": "2023-12-20T19:13:06.394695Z",
     "iopub.status.idle": "2023-12-20T19:13:06.438049Z",
     "shell.execute_reply": "2023-12-20T19:13:06.437195Z",
     "shell.execute_reply.started": "2023-12-20T19:13:06.394991Z"
    }
   },
   "outputs": [
    {
     "name": "stdout",
     "output_type": "stream",
     "text": [
      "targets: tensor([1., 1., 1., 1.])\n",
      "outputs: tensor([ 0.1379, -2.1322, -1.6270, -0.2090], grad_fn=<SqueezeBackward0>)\n",
      "probabilities: tensor([0.5344, 0.1060, 0.1642, 0.4479], grad_fn=<SigmoidBackward0>)\n",
      "accurary rate(using prob): 25.0\n",
      "accurary rate(using logit): 25.0\n"
     ]
    }
   ],
   "source": [
    "sigmoid       = nn.Sigmoid()\n",
    "outputs       = torch.randn(4, 1, requires_grad=True).squeeze()\n",
    "probabilities = sigmoid(outputs)\n",
    "targets       = torch.tensor([1, 1, 1, 1], dtype=torch.float32)\n",
    "print('targets:', targets)\n",
    "print('outputs:',outputs)\n",
    "print('probabilities:',probabilities)\n",
    "print('accurary rate(using prob):',compute_accuracy(probabilities,targets,\n",
    "                                                    device='cpu',apply_sigmoid=False))\n",
    "print('accurary rate(using logit):',compute_accuracy(outputs,targets,\n",
    "                                                     device='cpu',apply_sigmoid=True))"
   ]
  },
  {
   "cell_type": "markdown",
   "metadata": {},
   "source": [
    "## 3.3 - Training loop\n",
    "### - The training loop updates the model parameters so that it improves over time.\n",
    "### - The training loop is composed of two loops: an inner loop over batches in the dataset, and an outer loop, which repeats the inner loop a number of times.\n",
    "### - The inner loop (batch), losses are computed for each batch, and the optimizer is used to update the model parameters."
   ]
  },
  {
   "cell_type": "code",
   "execution_count": 54,
   "metadata": {
    "execution": {
     "iopub.execute_input": "2023-12-20T19:45:17.711564Z",
     "iopub.status.busy": "2023-12-20T19:45:17.711179Z",
     "iopub.status.idle": "2023-12-20T19:45:17.718052Z",
     "shell.execute_reply": "2023-12-20T19:45:17.716936Z",
     "shell.execute_reply.started": "2023-12-20T19:45:17.711534Z"
    }
   },
   "outputs": [],
   "source": [
    "def print_train_state(train_state):\n",
    "    print('Train Loss:',round(train_state['train_loss'][-1],5))\n",
    "    print('Train Accuracy:',round(train_state['train_acc'][-1],5))\n",
    "    print('Valid Loss:',round(train_state['val_loss'][-1],5))\n",
    "    print('Valid Accuracy:',round(train_state['val_acc'][-1],5))\n",
    "    print('early_stopping_best_val:',round(train_state['early_stopping_best_val'],5))\n",
    "    print('early_stopping_step:',train_state['early_stopping_step'])\n",
    "    print('stop_early:',train_state['stop_early'])"
   ]
  },
  {
   "cell_type": "code",
   "execution_count": 60,
   "metadata": {
    "execution": {
     "iopub.execute_input": "2023-12-20T20:06:45.652405Z",
     "iopub.status.busy": "2023-12-20T20:06:45.652054Z",
     "iopub.status.idle": "2023-12-20T20:08:33.100338Z",
     "shell.execute_reply": "2023-12-20T20:08:33.099344Z",
     "shell.execute_reply.started": "2023-12-20T20:06:45.652377Z"
    }
   },
   "outputs": [
    {
     "name": "stdout",
     "output_type": "stream",
     "text": [
      "------------------------------------------------------------\n",
      "Epoch 0...\n",
      "Training Iteration...\n",
      "Validation Iteration...\n",
      "Current lr: 1.953125e-06\n",
      "Train Loss: 0.13113\n",
      "Train Accuracy: 95.5627\n",
      "Valid Loss: 0.20418\n",
      "Valid Accuracy: 92.04327\n",
      "early_stopping_best_val: 100000000.0\n",
      "early_stopping_step: 0\n",
      "stop_early: False\n",
      "------------------------------------------------------------\n",
      "Epoch 1...\n",
      "Training Iteration...\n",
      "Validation Iteration...\n",
      "Current lr: 9.765625e-07\n",
      "Train Loss: 0.13114\n",
      "Train Accuracy: 95.56526\n",
      "Valid Loss: 0.20407\n",
      "Valid Accuracy: 92.11538\n",
      "early_stopping_best_val: 0.20407\n",
      "early_stopping_step: 0\n",
      "stop_early: False\n",
      "------------------------------------------------------------\n",
      "Epoch 2...\n",
      "Training Iteration...\n",
      "Validation Iteration...\n",
      "Current lr: 9.765625e-07\n",
      "Train Loss: 0.13109\n",
      "Train Accuracy: 95.56526\n",
      "Valid Loss: 0.20491\n",
      "Valid Accuracy: 92.04327\n",
      "early_stopping_best_val: 0.20407\n",
      "early_stopping_step: 1\n",
      "stop_early: False\n",
      "------------------------------------------------------------\n",
      "Epoch 3...\n",
      "Training Iteration...\n",
      "Validation Iteration...\n",
      "Current lr: 4.8828125e-07\n",
      "Train Loss: 0.13113\n",
      "Train Accuracy: 95.5627\n",
      "Valid Loss: 0.20398\n",
      "Valid Accuracy: 92.06731\n",
      "early_stopping_best_val: 0.20398\n",
      "early_stopping_step: 0\n",
      "stop_early: False\n",
      "------------------------------------------------------------\n",
      "Epoch 4...\n",
      "Training Iteration...\n",
      "Validation Iteration...\n",
      "Current lr: 4.8828125e-07\n",
      "Train Loss: 0.1311\n",
      "Train Accuracy: 95.56526\n",
      "Valid Loss: 0.20468\n",
      "Valid Accuracy: 92.06731\n",
      "early_stopping_best_val: 0.20398\n",
      "early_stopping_step: 1\n",
      "stop_early: False\n",
      "------------------------------------------------------------\n",
      "Epoch 5...\n",
      "Training Iteration...\n",
      "Validation Iteration...\n",
      "Current lr: 2.44140625e-07\n",
      "Train Loss: 0.1311\n",
      "Train Accuracy: 95.5627\n",
      "Valid Loss: 0.20352\n",
      "Valid Accuracy: 92.06731\n",
      "early_stopping_best_val: 0.20352\n",
      "early_stopping_step: 0\n",
      "stop_early: False\n",
      "------------------------------------------------------------\n",
      "Epoch 6...\n",
      "Training Iteration...\n",
      "Validation Iteration...\n",
      "Current lr: 2.44140625e-07\n",
      "Train Loss: 0.13108\n",
      "Train Accuracy: 95.56781\n",
      "Valid Loss: 0.20447\n",
      "Valid Accuracy: 92.05529\n",
      "early_stopping_best_val: 0.20352\n",
      "early_stopping_step: 1\n",
      "stop_early: False\n",
      "------------------------------------------------------------\n",
      "Epoch 7...\n",
      "Training Iteration...\n",
      "Validation Iteration...\n",
      "Current lr: 1.220703125e-07\n",
      "Train Loss: 0.13113\n",
      "Train Accuracy: 95.5627\n",
      "Valid Loss: 0.20469\n",
      "Valid Accuracy: 92.04327\n",
      "early_stopping_best_val: 0.20352\n",
      "early_stopping_step: 2\n",
      "stop_early: False\n",
      "------------------------------------------------------------\n",
      "Epoch 8...\n",
      "Training Iteration...\n",
      "Validation Iteration...\n",
      "Current lr: 1.220703125e-07\n",
      "Train Loss: 0.13112\n",
      "Train Accuracy: 95.5627\n",
      "Valid Loss: 0.20455\n",
      "Valid Accuracy: 92.06731\n",
      "early_stopping_best_val: 0.20352\n",
      "early_stopping_step: 3\n",
      "stop_early: False\n",
      "------------------------------------------------------------\n",
      "Epoch 9...\n",
      "Training Iteration...\n",
      "Validation Iteration...\n",
      "Current lr: 6.103515625e-08\n",
      "Train Loss: 0.13106\n",
      "Train Accuracy: 95.56781\n",
      "Valid Loss: 0.2051\n",
      "Valid Accuracy: 92.06731\n",
      "early_stopping_best_val: 0.20352\n",
      "early_stopping_step: 4\n",
      "stop_early: False\n",
      "------------------------------------------------------------\n",
      "Epoch 10...\n",
      "Training Iteration...\n",
      "Validation Iteration...\n",
      "Current lr: 6.103515625e-08\n",
      "Train Loss: 0.13111\n",
      "Train Accuracy: 95.56526\n",
      "Valid Loss: 0.20528\n",
      "Valid Accuracy: 92.03125\n",
      "early_stopping_best_val: 0.20352\n",
      "early_stopping_step: 5\n",
      "stop_early: True\n"
     ]
    }
   ],
   "source": [
    "if args.get_model == 'TRAIN':\n",
    "    ##### Get an initialized train_state\n",
    "    train_state = init_train_state(args)\n",
    "    \n",
    "    for epoch_index in range(args.num_epochs):\n",
    "        print('-'*60)\n",
    "        print(f'Epoch {epoch_index}...')\n",
    "        train_state['epoch_index'] = epoch_index\n",
    "\n",
    "        ##################################################\n",
    "        #####     Iterate over training dataset      #####\n",
    "        ##################################################\n",
    "        print('Training Iteration...')\n",
    "\n",
    "        ##### Create a batch_generator using training data\n",
    "        dataset.set_split('train')\n",
    "        batch_generator = generate_batches(dataset,\n",
    "                                           batch_size=args.batch_size,\n",
    "                                           device=args.device)\n",
    "\n",
    "        ##### running_loss and running_acc are equivalent to the moving averages of loss and accuracy.\n",
    "        ##### when the loop ends, a moving average is just an average. \n",
    "        ##### In each epoch loop, they are reset to zero before the batch loop.\n",
    "        running_loss = 0.0\n",
    "        running_acc  = 0.0\n",
    "\n",
    "        ##### Indicate that the model is in “training mode” \n",
    "        # makes the model parameters mutable \n",
    "        # and enables regularization mechanisms like dropout\n",
    "        classifier.train()\n",
    "\n",
    "        for batch_index, batch_dict in enumerate(batch_generator):\n",
    "            # the training routine is these 5 steps:\n",
    "            # --------------------------------------\n",
    "            ##### STEP 1. zero the gradients\n",
    "            # Inside each batch iteration, the optimizer’s gradients are first reset\n",
    "            # Calling backward (step 4 below) will ACCUMULATE gradients, so if the backward()\n",
    "            # is called earlier, the new gradient is accumulated on top of the one computed \n",
    "            # in previous iterations, which leads ao an incorrect value for the gradient.\n",
    "            # Therefore, use this zero_ method to reset the gradients.\n",
    "            optimizer.zero_grad()\n",
    "\n",
    "            ##### STEP 2. compute the output\n",
    "            y_pred = classifier(x_in=batch_dict['x_data'].float())\n",
    "\n",
    "            ##### STEP 3. compute the loss\n",
    "            loss = loss_func(y_pred, batch_dict['y_target'].float())\n",
    "            loss_t = loss.item()\n",
    "            # update the moving average of loss, batch by batch\n",
    "            running_loss += (loss_t - running_loss) / (batch_index + 1)\n",
    "\n",
    "            ##### STEP 4. use loss to produce gradients (gradients are propagated to each parameter)\n",
    "            # Calling backward() and the gradients at each leaf is ACCUMULATED, not stored.\n",
    "            # Note that the loss is the loss in train split. There is no valid_loss.backward()\n",
    "            # because we don't want to train the model on the validation data. \n",
    "            loss.backward()\n",
    "\n",
    "            ##### STEP 5. use optimizer to update parameters\n",
    "            # the optimizer uses the propagated gradients to perform parameter updates\n",
    "            # The value of classifier.parameters(), i.e., params is automatically updated in this step. \n",
    "            # In specific, the optimizer looks into params.grad and updates params, by substracting \n",
    "            # learning_rate * grad from it. \n",
    "            optimizer.step()\n",
    "\n",
    "            ##### Tracking the accuracy\n",
    "            # compute the accuracy\n",
    "            acc_t = compute_accuracy(y_pred, batch_dict['y_target'],\n",
    "                                     args.device, apply_sigmoid=True)\n",
    "            # update the moving average of acc, batch by batch\n",
    "            running_acc += (acc_t - running_acc) / (batch_index + 1)\n",
    "\n",
    "        ##### After this inner loop (training) ends\n",
    "        # Append the running_loss and running_acc to train_state\n",
    "        # (the average of loss and acc in all the batches in the current epoch)\n",
    "        train_state['train_loss'].append(running_loss)\n",
    "        train_state['train_acc'].append(running_acc)\n",
    "\n",
    "        ##################################################\n",
    "        #####     Iterate over validation dataset    #####\n",
    "        ##################################################\n",
    "        print('Validation Iteration...')\n",
    "\n",
    "        ##### Create a batch_generator using validation data\n",
    "        dataset.set_split('val')    \n",
    "        batch_generator = generate_batches(dataset, \n",
    "                                           batch_size=args.batch_size, \n",
    "                                           device=args.device)\n",
    "        ##### Create new running loss, and running accuracy\n",
    "        running_loss = 0.0\n",
    "        running_acc  = 0.0\n",
    "\n",
    "        ##### Indicate that the model is in “evaluation mode”\n",
    "        # makes the model parameters immutable \n",
    "        # disables dropout\n",
    "        # disables computation of the loss and propagation of gradients back to the parameters\n",
    "        classifier.eval()\n",
    "\n",
    "        for batch_index, batch_dict in enumerate(batch_generator):\n",
    "            ##### compute the output\n",
    "            y_pred = classifier(x_in=batch_dict['x_data'].float())\n",
    "\n",
    "            ##### STEP 3. compute the loss\n",
    "            loss = loss_func(y_pred, batch_dict['y_target'].float())\n",
    "            loss_t = loss.item()\n",
    "            running_loss += (loss_t - running_loss) / (batch_index + 1)\n",
    "\n",
    "            ##### compute the accuracy\n",
    "            acc_t = compute_accuracy(y_pred, batch_dict['y_target'],\n",
    "                                     args.device, apply_sigmoid=True)\n",
    "            running_acc += (acc_t - running_acc) / (batch_index + 1)\n",
    "\n",
    "        ##### After this inner loop (validation) ends\n",
    "        # Append the running_loss and running_acc to train_state\n",
    "        # (the average of loss and acc in all the batches in the current epoch)\n",
    "        train_state['val_loss'].append(running_loss)\n",
    "        train_state['val_acc'].append(running_acc)\n",
    "\n",
    "        ##### Update the status of Early Stopping and Model Checkpoint\n",
    "        # Input: the current classifier and current train_state (end of the current epoch loop)\n",
    "        # Update three items in train_state\n",
    "        # 1.\"early_stopping_step\" +=1 or reset to 0 (comparing val_loss and early_stopping_best_val)\n",
    "        # 2.\"early_stopping_best_val\" update to the current val_loss if it is the best model\n",
    "        # 3.\"stop_early\" if early_stopping_step reaches early_stopping_criteria. If True, break all loops below. \n",
    "        # Save a new model if the current model has early_stopping_best_val\n",
    "        train_state = update_train_state(args = args, model = classifier,\n",
    "                                         train_state = train_state)\n",
    "        \n",
    "        scheduler.step(train_state['val_loss'][-1])\n",
    "        print('Current lr:', optimizer.param_groups[0]['lr'])\n",
    "\n",
    "        print_train_state(train_state)\n",
    "\n",
    "        if train_state['stop_early']:\n",
    "            break\n",
    "\n",
    "elif args.get_model == 'LOAD':\n",
    "    classifier.load_state_dict(torch.load(train_state['model_filename']))\n",
    "    classifier = classifier.to(args.device)"
   ]
  },
  {
   "cell_type": "markdown",
   "metadata": {},
   "source": [
    "# @@@@@ 4. Evaluation\n",
    "## 4.1 - Evaluation on Test Data"
   ]
  },
  {
   "cell_type": "code",
   "execution_count": 69,
   "metadata": {
    "execution": {
     "iopub.execute_input": "2023-12-20T20:18:49.920997Z",
     "iopub.status.busy": "2023-12-20T20:18:49.920306Z",
     "iopub.status.idle": "2023-12-20T20:18:51.551666Z",
     "shell.execute_reply": "2023-12-20T20:18:51.550932Z",
     "shell.execute_reply.started": "2023-12-20T20:18:49.920955Z"
    }
   },
   "outputs": [
    {
     "name": "stdout",
     "output_type": "stream",
     "text": [
      "Test loss: 0.21480\n",
      "Test Accuracy: 91.87500\n"
     ]
    }
   ],
   "source": [
    "##### Create a batch_generator using test data\n",
    "# The test set should be run as little as possible\n",
    "# Avoid make a new model decision based on the evaluation on test data\n",
    "# Otherwise the model might be biased toward the test data, and the test data will \n",
    "# become meaningless as an measure of truly held-out data.\n",
    "dataset.set_split('test')\n",
    "batch_generator = generate_batches(dataset, \n",
    "                                   batch_size=args.batch_size, \n",
    "                                   device=args.device)\n",
    "\n",
    "##### Create new running loss, and running accuracy\n",
    "running_loss = 0.0\n",
    "running_acc = 0.0\n",
    "\n",
    "##### Indicate that the model is in “evaluation mode”\n",
    "classifier.eval()\n",
    "\n",
    "for batch_index, batch_dict in enumerate(batch_generator):\n",
    "    # compute the output\n",
    "    y_pred = classifier(x_in=batch_dict['x_data'].float())\n",
    "\n",
    "    # compute the loss\n",
    "    loss   = loss_func(y_pred, batch_dict['y_target'].float())\n",
    "    loss_t = loss.item()\n",
    "    running_loss += (loss_t - running_loss) / (batch_index + 1)\n",
    "\n",
    "    # compute the accuracy\n",
    "    acc_t = compute_accuracy(y_pred, batch_dict['y_target'],\n",
    "                            args.device, apply_sigmoid=True)\n",
    "    running_acc += (acc_t - running_acc) / (batch_index + 1)\n",
    "\n",
    "train_state['test_loss'] = running_loss\n",
    "train_state['test_acc']  = running_acc\n",
    "print(\"Test loss: {:.5f}\".format(train_state['test_loss']))\n",
    "print(\"Test Accuracy: {:.5f}\".format(train_state['test_acc']))"
   ]
  },
  {
   "cell_type": "markdown",
   "metadata": {},
   "source": [
    "## 4.2 Generation a prediction for a given review"
   ]
  },
  {
   "cell_type": "code",
   "execution_count": 140,
   "metadata": {
    "execution": {
     "iopub.execute_input": "2023-12-20T21:22:39.669568Z",
     "iopub.status.busy": "2023-12-20T21:22:39.669217Z",
     "iopub.status.idle": "2023-12-20T21:22:39.676890Z",
     "shell.execute_reply": "2023-12-20T21:22:39.675828Z",
     "shell.execute_reply.started": "2023-12-20T21:22:39.669543Z"
    }
   },
   "outputs": [
    {
     "data": {
      "text/plain": [
       "{'positive': 'Exceptional service, delightful ambiance, and the food was simply outstanding!',\n",
       " 'neutral': 'The ambiance was average, and the menu provided a typical selection of dishes.',\n",
       " 'negative': 'Poor service, bland dishes, and the overall dining experience left much to be desired.',\n",
       " 'noise': 'Today is Monday, so the school is open'}"
      ]
     },
     "execution_count": 140,
     "metadata": {},
     "output_type": "execute_result"
    }
   ],
   "source": [
    "reviews = {\n",
    "    'positive': \"Exceptional service, delightful ambiance, and the food was simply outstanding!\",\n",
    "    'neutral' : \"The ambiance was average, and the menu provided a typical selection of dishes.\",\n",
    "    'negative': \"Poor service, bland dishes, and the overall dining experience left much to be desired.\",\n",
    "    'noise'   : \"Today is Monday, so the school is open\"\n",
    " }\n",
    "reviews"
   ]
  },
  {
   "cell_type": "code",
   "execution_count": 141,
   "metadata": {
    "execution": {
     "iopub.execute_input": "2023-12-20T21:22:43.665650Z",
     "iopub.status.busy": "2023-12-20T21:22:43.664900Z",
     "iopub.status.idle": "2023-12-20T21:22:43.673568Z",
     "shell.execute_reply": "2023-12-20T21:22:43.672556Z",
     "shell.execute_reply.started": "2023-12-20T21:22:43.665617Z"
    }
   },
   "outputs": [
    {
     "name": "stdout",
     "output_type": "stream",
     "text": [
      "Example:\n",
      "original: Hello,world!\n",
      "poreprocessed: hello , world ! \n",
      "------------------------------------------------------------\n",
      "Example:\n",
      "original: abc ?!?!? 123\n",
      "poreprocessed: abc ? ! ? ! ? \n"
     ]
    }
   ],
   "source": [
    "def preprocess_text(text):\n",
    "    ### converts all characters in the text to lowercase\n",
    "    text = text.lower()\n",
    "    ### substitute [.,!?] with spaces before and after matched punctuation marks\n",
    "    text = re.sub(r\"([.,!?])\", r\" \\1 \", text)\n",
    "    ### replace [^a-zA-Z.,!?] with a single space\n",
    "    text = re.sub(r\"[^a-zA-Z.,!?]+\", r\" \", text)\n",
    "    return text\n",
    "\n",
    "example_text = \"Hello,world!\"\n",
    "print('Example:')\n",
    "print(f\"original: {example_text}\")\n",
    "print(f'poreprocessed: {preprocess_text(example_text)}')\n",
    "print('-'*60)\n",
    "example_text = \"abc ?!?!? 123\"\n",
    "print('Example:')\n",
    "print(f\"original: {example_text}\")\n",
    "print(f'poreprocessed: {preprocess_text(example_text)}')"
   ]
  },
  {
   "cell_type": "code",
   "execution_count": 142,
   "metadata": {
    "execution": {
     "iopub.execute_input": "2023-12-20T21:22:45.407962Z",
     "iopub.status.busy": "2023-12-20T21:22:45.407261Z",
     "iopub.status.idle": "2023-12-20T21:22:45.414752Z",
     "shell.execute_reply": "2023-12-20T21:22:45.413796Z",
     "shell.execute_reply.started": "2023-12-20T21:22:45.407933Z"
    }
   },
   "outputs": [],
   "source": [
    "def predict_review(review, \n",
    "                   classifier, \n",
    "                   device, \n",
    "                   vectorizer, \n",
    "                   output_type, \n",
    "                   decision_threshold=0.5):\n",
    "    \"\"\"Predict the rating of a review\n",
    "    \n",
    "    Args:\n",
    "        review (str): the text of the review\n",
    "        classifier (ReviewClassifier): the trained model\n",
    "        device: device\n",
    "        vectorizer (ReviewVectorizer): the corresponding vectorizer\n",
    "        output_type: probability, logit, label\n",
    "        decision_threshold (float): The numerical boundary which separates the rating classes\n",
    "    \"\"\"\n",
    "    \n",
    "    review = preprocess_text(review)\n",
    "    classifier = classifier.to(device)\n",
    "    \n",
    "    vectorized_review = torch.tensor(vectorizer.vectorize(review))\n",
    "    ### logit\n",
    "    logit = classifier(vectorized_review.view(1, -1))\n",
    "    \n",
    "    if output_type == 'logit':\n",
    "        return logit\n",
    "    elif output_type == 'prob':\n",
    "        return F.sigmoid(logit).item()\n",
    "    elif output_type == 'label':\n",
    "        index = 1\n",
    "        if probability_value < decision_threshold:\n",
    "            index = 0\n",
    "        return vectorizer.rating_vocab.lookup_index(index)\n",
    "    "
   ]
  },
  {
   "cell_type": "code",
   "execution_count": 143,
   "metadata": {
    "execution": {
     "iopub.execute_input": "2023-12-20T21:22:49.058468Z",
     "iopub.status.busy": "2023-12-20T21:22:49.057648Z",
     "iopub.status.idle": "2023-12-20T21:22:49.064947Z",
     "shell.execute_reply": "2023-12-20T21:22:49.064020Z",
     "shell.execute_reply.started": "2023-12-20T21:22:49.058433Z"
    }
   },
   "outputs": [
    {
     "name": "stdout",
     "output_type": "stream",
     "text": [
      "Review:  Exceptional service, delightful ambiance, and the food was simply outstanding!\n",
      "Prob: 0.885\n"
     ]
    }
   ],
   "source": [
    "prediction = predict_review(reviews['positive'], \n",
    "                            classifier,\n",
    "                            'cpu', \n",
    "                            vectorizer, \n",
    "                            'prob',\n",
    "                            decision_threshold=0.5)\n",
    "print('Review: ',reviews['positive'])\n",
    "print(f'Prob: {round(prediction,4)}')"
   ]
  },
  {
   "cell_type": "code",
   "execution_count": 144,
   "metadata": {
    "execution": {
     "iopub.execute_input": "2023-12-20T21:22:50.793750Z",
     "iopub.status.busy": "2023-12-20T21:22:50.792923Z",
     "iopub.status.idle": "2023-12-20T21:22:50.799786Z",
     "shell.execute_reply": "2023-12-20T21:22:50.798868Z",
     "shell.execute_reply.started": "2023-12-20T21:22:50.793718Z"
    }
   },
   "outputs": [
    {
     "name": "stdout",
     "output_type": "stream",
     "text": [
      "Review:  The ambiance was average, and the menu provided a typical selection of dishes.\n",
      "Prob: 0.4516\n"
     ]
    }
   ],
   "source": [
    "prediction = predict_review(reviews['neutral'], \n",
    "                            classifier,\n",
    "                            'cpu', \n",
    "                            vectorizer, \n",
    "                            'prob',\n",
    "                            decision_threshold=0.5)\n",
    "print('Review: ',reviews['neutral'])\n",
    "print(f'Prob: {round(prediction,4)}')"
   ]
  },
  {
   "cell_type": "code",
   "execution_count": 145,
   "metadata": {
    "execution": {
     "iopub.execute_input": "2023-12-20T21:22:52.086944Z",
     "iopub.status.busy": "2023-12-20T21:22:52.085854Z",
     "iopub.status.idle": "2023-12-20T21:22:52.094303Z",
     "shell.execute_reply": "2023-12-20T21:22:52.093246Z",
     "shell.execute_reply.started": "2023-12-20T21:22:52.086898Z"
    }
   },
   "outputs": [
    {
     "name": "stdout",
     "output_type": "stream",
     "text": [
      "Review:  Poor service, bland dishes, and the overall dining experience left much to be desired.\n",
      "Prob: 0.018\n"
     ]
    }
   ],
   "source": [
    "prediction = predict_review(reviews['negative'], \n",
    "                            classifier,\n",
    "                            'cpu', \n",
    "                            vectorizer, \n",
    "                            'prob',\n",
    "                            decision_threshold=0.5)\n",
    "print('Review: ',reviews['negative'])\n",
    "print(f'Prob: {round(prediction,4)}')"
   ]
  },
  {
   "cell_type": "code",
   "execution_count": 146,
   "metadata": {
    "execution": {
     "iopub.execute_input": "2023-12-20T21:22:53.989969Z",
     "iopub.status.busy": "2023-12-20T21:22:53.989184Z",
     "iopub.status.idle": "2023-12-20T21:22:53.996435Z",
     "shell.execute_reply": "2023-12-20T21:22:53.995460Z",
     "shell.execute_reply.started": "2023-12-20T21:22:53.989938Z"
    }
   },
   "outputs": [
    {
     "name": "stdout",
     "output_type": "stream",
     "text": [
      "Review:  Today is Monday, so the school is open\n",
      "Prob: 0.6841\n"
     ]
    }
   ],
   "source": [
    "prediction = predict_review(reviews['noise'], \n",
    "                            classifier,\n",
    "                            'cpu', \n",
    "                            vectorizer, \n",
    "                            'prob',\n",
    "                            decision_threshold=0.5)\n",
    "print('Review: ',reviews['noise'])\n",
    "print(f'Prob: {round(prediction,4)}')"
   ]
  },
  {
   "cell_type": "markdown",
   "metadata": {},
   "source": [
    "## 4.3 Generation a prediction for a given review\n",
    "### Weight parameter represents the strength of the connection between units. "
   ]
  },
  {
   "cell_type": "code",
   "execution_count": 147,
   "metadata": {
    "execution": {
     "iopub.execute_input": "2023-12-20T21:31:04.005670Z",
     "iopub.status.busy": "2023-12-20T21:31:04.005218Z",
     "iopub.status.idle": "2023-12-20T21:31:04.023033Z",
     "shell.execute_reply": "2023-12-20T21:31:04.022223Z",
     "shell.execute_reply.started": "2023-12-20T21:31:04.005634Z"
    }
   },
   "outputs": [],
   "source": [
    "fc1_weights = classifier.fc1.weight.detach()[0]\n",
    "_, indices = torch.sort(fc1_weights, dim=0, descending=True)\n",
    "indices = indices.numpy().tolist()"
   ]
  },
  {
   "cell_type": "code",
   "execution_count": 151,
   "metadata": {
    "execution": {
     "iopub.execute_input": "2023-12-20T21:31:51.397938Z",
     "iopub.status.busy": "2023-12-20T21:31:51.397583Z",
     "iopub.status.idle": "2023-12-20T21:31:51.403693Z",
     "shell.execute_reply": "2023-12-20T21:31:51.402751Z",
     "shell.execute_reply.started": "2023-12-20T21:31:51.397908Z"
    }
   },
   "outputs": [
    {
     "name": "stdout",
     "output_type": "stream",
     "text": [
      "Influential words in Positive Reviews:\n",
      "--------------------------------------\n",
      "worst\n",
      "mediocre\n",
      "bland\n",
      "horrible\n",
      "meh\n",
      "awful\n",
      "rude\n",
      "terrible\n",
      "tasteless\n",
      "overpriced\n",
      "disgusting\n",
      "unfriendly\n",
      "slowest\n",
      "poorly\n",
      "unacceptable\n",
      "nmaybe\n",
      "downhill\n",
      "underwhelmed\n",
      "disappointing\n",
      "disappointment\n"
     ]
    }
   ],
   "source": [
    "print(\"Influential words in Positive Reviews:\")\n",
    "print(\"--------------------------------------\")\n",
    "for i in range(20):\n",
    "    print(vectorizer.review_vocab.lookup_index(indices[i]))"
   ]
  },
  {
   "cell_type": "code",
   "execution_count": 152,
   "metadata": {
    "execution": {
     "iopub.execute_input": "2023-12-20T21:31:53.212597Z",
     "iopub.status.busy": "2023-12-20T21:31:53.212224Z",
     "iopub.status.idle": "2023-12-20T21:31:53.219173Z",
     "shell.execute_reply": "2023-12-20T21:31:53.218120Z",
     "shell.execute_reply.started": "2023-12-20T21:31:53.212566Z"
    }
   },
   "outputs": [
    {
     "name": "stdout",
     "output_type": "stream",
     "text": [
      "Influential words in Negative Reviews:\n",
      "--------------------------------------\n",
      "delicious\n",
      "pleasantly\n",
      "fantastic\n",
      "amazing\n",
      "great\n",
      "vegas\n",
      "ngreat\n",
      "excellent\n",
      "yum\n",
      "perfect\n",
      "awesome\n",
      "yummy\n",
      "love\n",
      "bomb\n",
      "chinatown\n",
      "deliciousness\n",
      "solid\n",
      "pleased\n",
      "hooked\n",
      "notch\n"
     ]
    }
   ],
   "source": [
    "# Top 20 negative words\n",
    "print(\"Influential words in Negative Reviews:\")\n",
    "print(\"--------------------------------------\")\n",
    "indices.reverse()\n",
    "for i in range(20):\n",
    "    print(vectorizer.review_vocab.lookup_index(indices[i]))"
   ]
  }
 ],
 "metadata": {
  "kaggle": {
   "accelerator": "nvidiaTeslaT4",
   "dataSources": [
    {
     "datasetId": 4127781,
     "sourceId": 7149530,
     "sourceType": "datasetVersion"
    }
   ],
   "dockerImageVersionId": 30615,
   "isGpuEnabled": true,
   "isInternetEnabled": true,
   "language": "python",
   "sourceType": "notebook"
  },
  "kernelspec": {
   "display_name": "Python 3 (ipykernel)",
   "language": "python",
   "name": "python3"
  },
  "language_info": {
   "codemirror_mode": {
    "name": "ipython",
    "version": 3
   },
   "file_extension": ".py",
   "mimetype": "text/x-python",
   "name": "python",
   "nbconvert_exporter": "python",
   "pygments_lexer": "ipython3",
   "version": "3.9.7"
  }
 },
 "nbformat": 4,
 "nbformat_minor": 4
}
